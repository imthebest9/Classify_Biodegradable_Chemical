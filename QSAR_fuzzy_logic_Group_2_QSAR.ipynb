{
 "cells": [
  {
   "cell_type": "markdown",
   "metadata": {},
   "source": [
    "# Overview\n",
    "\n",
    "1. Understanding the data \n",
    "2. Feature engineering\n",
    "3. Model Preprocessing\n",
    "4. Model Building"
   ]
  },
  {
   "cell_type": "code",
   "execution_count": 1,
   "metadata": {},
   "outputs": [],
   "source": [
    "import numpy as np\n",
    "import pandas as pd\n",
    "import warnings\n",
    "warnings.filterwarnings('ignore')\n",
    "import skfuzzy as fuzz\n",
    "from skfuzzy import control as ctrl\n",
    "import seaborn as sns\n",
    "import matplotlib.pyplot as plt\n",
    "from sklearn.metrics import accuracy_score, confusion_matrix, classification_report"
   ]
  },
  {
   "cell_type": "code",
   "execution_count": 2,
   "metadata": {},
   "outputs": [],
   "source": [
    "qsar = pd.read_csv('biodeg.csv', sep=';')\n",
    "qsar.columns = qsar.columns.str.replace('(', '').str.replace(')', '').str.replace('[','').str.replace(']','').str.replace('-','')\n",
    "# Replacing NRB and RB to 0 and 1 for easy interpretation\n",
    "qsar['experimental_class'] = qsar['experimental_class'].replace(['NRB'], '0').replace(['RB'], '1')\n",
    "qsar['experimental_class'] = qsar['experimental_class'].astype(int)"
   ]
  },
  {
   "cell_type": "markdown",
   "metadata": {},
   "source": [
    "# Understanding the data\n",
    "\n",
    "1. head(), info(), describe()\n",
    "2. Spliting data into continuous and categorical variables\n",
    "3. Histogram for continuous variables\n",
    "4. Bar chart for categorical variables"
   ]
  },
  {
   "cell_type": "code",
   "execution_count": 3,
   "metadata": {
    "scrolled": true
   },
   "outputs": [
    {
     "data": {
      "text/html": [
       "<div>\n",
       "<style scoped>\n",
       "    .dataframe tbody tr th:only-of-type {\n",
       "        vertical-align: middle;\n",
       "    }\n",
       "\n",
       "    .dataframe tbody tr th {\n",
       "        vertical-align: top;\n",
       "    }\n",
       "\n",
       "    .dataframe thead th {\n",
       "        text-align: right;\n",
       "    }\n",
       "</style>\n",
       "<table border=\"1\" class=\"dataframe\">\n",
       "  <thead>\n",
       "    <tr style=\"text-align: right;\">\n",
       "      <th></th>\n",
       "      <th>SpMax_L</th>\n",
       "      <th>J_Dze</th>\n",
       "      <th>nHM</th>\n",
       "      <th>F01NN</th>\n",
       "      <th>F04CN</th>\n",
       "      <th>NssssC</th>\n",
       "      <th>nCb</th>\n",
       "      <th>C%</th>\n",
       "      <th>nCp</th>\n",
       "      <th>nO</th>\n",
       "      <th>...</th>\n",
       "      <th>C026</th>\n",
       "      <th>F02CN</th>\n",
       "      <th>nHDon</th>\n",
       "      <th>SpMax_Bm</th>\n",
       "      <th>Psi_i_A</th>\n",
       "      <th>nN</th>\n",
       "      <th>SM6_Bm</th>\n",
       "      <th>nArCOOR</th>\n",
       "      <th>nX</th>\n",
       "      <th>experimental_class</th>\n",
       "    </tr>\n",
       "  </thead>\n",
       "  <tbody>\n",
       "    <tr>\n",
       "      <th>0</th>\n",
       "      <td>3.919</td>\n",
       "      <td>2.6909</td>\n",
       "      <td>0</td>\n",
       "      <td>0</td>\n",
       "      <td>0</td>\n",
       "      <td>0</td>\n",
       "      <td>0</td>\n",
       "      <td>31.4</td>\n",
       "      <td>2</td>\n",
       "      <td>0</td>\n",
       "      <td>...</td>\n",
       "      <td>0</td>\n",
       "      <td>0</td>\n",
       "      <td>0</td>\n",
       "      <td>2.949</td>\n",
       "      <td>1.591</td>\n",
       "      <td>0</td>\n",
       "      <td>7.253</td>\n",
       "      <td>0</td>\n",
       "      <td>0</td>\n",
       "      <td>1</td>\n",
       "    </tr>\n",
       "    <tr>\n",
       "      <th>1</th>\n",
       "      <td>4.170</td>\n",
       "      <td>2.1144</td>\n",
       "      <td>0</td>\n",
       "      <td>0</td>\n",
       "      <td>0</td>\n",
       "      <td>0</td>\n",
       "      <td>0</td>\n",
       "      <td>30.8</td>\n",
       "      <td>1</td>\n",
       "      <td>1</td>\n",
       "      <td>...</td>\n",
       "      <td>0</td>\n",
       "      <td>0</td>\n",
       "      <td>0</td>\n",
       "      <td>3.315</td>\n",
       "      <td>1.967</td>\n",
       "      <td>0</td>\n",
       "      <td>7.257</td>\n",
       "      <td>0</td>\n",
       "      <td>0</td>\n",
       "      <td>1</td>\n",
       "    </tr>\n",
       "    <tr>\n",
       "      <th>2</th>\n",
       "      <td>3.932</td>\n",
       "      <td>3.2512</td>\n",
       "      <td>0</td>\n",
       "      <td>0</td>\n",
       "      <td>0</td>\n",
       "      <td>0</td>\n",
       "      <td>0</td>\n",
       "      <td>26.7</td>\n",
       "      <td>2</td>\n",
       "      <td>4</td>\n",
       "      <td>...</td>\n",
       "      <td>0</td>\n",
       "      <td>0</td>\n",
       "      <td>1</td>\n",
       "      <td>3.076</td>\n",
       "      <td>2.417</td>\n",
       "      <td>0</td>\n",
       "      <td>7.601</td>\n",
       "      <td>0</td>\n",
       "      <td>0</td>\n",
       "      <td>1</td>\n",
       "    </tr>\n",
       "    <tr>\n",
       "      <th>3</th>\n",
       "      <td>3.000</td>\n",
       "      <td>2.7098</td>\n",
       "      <td>0</td>\n",
       "      <td>0</td>\n",
       "      <td>0</td>\n",
       "      <td>0</td>\n",
       "      <td>0</td>\n",
       "      <td>20.0</td>\n",
       "      <td>0</td>\n",
       "      <td>2</td>\n",
       "      <td>...</td>\n",
       "      <td>0</td>\n",
       "      <td>0</td>\n",
       "      <td>1</td>\n",
       "      <td>3.046</td>\n",
       "      <td>5.000</td>\n",
       "      <td>0</td>\n",
       "      <td>6.690</td>\n",
       "      <td>0</td>\n",
       "      <td>0</td>\n",
       "      <td>1</td>\n",
       "    </tr>\n",
       "    <tr>\n",
       "      <th>4</th>\n",
       "      <td>4.236</td>\n",
       "      <td>3.3944</td>\n",
       "      <td>0</td>\n",
       "      <td>0</td>\n",
       "      <td>0</td>\n",
       "      <td>0</td>\n",
       "      <td>0</td>\n",
       "      <td>29.4</td>\n",
       "      <td>2</td>\n",
       "      <td>4</td>\n",
       "      <td>...</td>\n",
       "      <td>0</td>\n",
       "      <td>0</td>\n",
       "      <td>0</td>\n",
       "      <td>3.351</td>\n",
       "      <td>2.405</td>\n",
       "      <td>0</td>\n",
       "      <td>8.003</td>\n",
       "      <td>0</td>\n",
       "      <td>0</td>\n",
       "      <td>1</td>\n",
       "    </tr>\n",
       "    <tr>\n",
       "      <th>5</th>\n",
       "      <td>4.236</td>\n",
       "      <td>3.4286</td>\n",
       "      <td>0</td>\n",
       "      <td>0</td>\n",
       "      <td>0</td>\n",
       "      <td>0</td>\n",
       "      <td>0</td>\n",
       "      <td>28.6</td>\n",
       "      <td>2</td>\n",
       "      <td>4</td>\n",
       "      <td>...</td>\n",
       "      <td>0</td>\n",
       "      <td>0</td>\n",
       "      <td>0</td>\n",
       "      <td>3.351</td>\n",
       "      <td>2.556</td>\n",
       "      <td>0</td>\n",
       "      <td>7.904</td>\n",
       "      <td>0</td>\n",
       "      <td>0</td>\n",
       "      <td>1</td>\n",
       "    </tr>\n",
       "    <tr>\n",
       "      <th>6</th>\n",
       "      <td>5.000</td>\n",
       "      <td>5.0476</td>\n",
       "      <td>1</td>\n",
       "      <td>0</td>\n",
       "      <td>0</td>\n",
       "      <td>0</td>\n",
       "      <td>0</td>\n",
       "      <td>11.1</td>\n",
       "      <td>0</td>\n",
       "      <td>3</td>\n",
       "      <td>...</td>\n",
       "      <td>0</td>\n",
       "      <td>0</td>\n",
       "      <td>1</td>\n",
       "      <td>4.712</td>\n",
       "      <td>4.583</td>\n",
       "      <td>0</td>\n",
       "      <td>9.303</td>\n",
       "      <td>0</td>\n",
       "      <td>0</td>\n",
       "      <td>1</td>\n",
       "    </tr>\n",
       "    <tr>\n",
       "      <th>7</th>\n",
       "      <td>4.525</td>\n",
       "      <td>3.8301</td>\n",
       "      <td>0</td>\n",
       "      <td>0</td>\n",
       "      <td>0</td>\n",
       "      <td>0</td>\n",
       "      <td>0</td>\n",
       "      <td>31.6</td>\n",
       "      <td>3</td>\n",
       "      <td>2</td>\n",
       "      <td>...</td>\n",
       "      <td>0</td>\n",
       "      <td>0</td>\n",
       "      <td>0</td>\n",
       "      <td>3.379</td>\n",
       "      <td>2.143</td>\n",
       "      <td>0</td>\n",
       "      <td>7.950</td>\n",
       "      <td>0</td>\n",
       "      <td>0</td>\n",
       "      <td>1</td>\n",
       "    </tr>\n",
       "    <tr>\n",
       "      <th>8</th>\n",
       "      <td>4.596</td>\n",
       "      <td>3.0777</td>\n",
       "      <td>0</td>\n",
       "      <td>0</td>\n",
       "      <td>0</td>\n",
       "      <td>0</td>\n",
       "      <td>2</td>\n",
       "      <td>44.4</td>\n",
       "      <td>2</td>\n",
       "      <td>0</td>\n",
       "      <td>...</td>\n",
       "      <td>0</td>\n",
       "      <td>0</td>\n",
       "      <td>0</td>\n",
       "      <td>3.626</td>\n",
       "      <td>1.917</td>\n",
       "      <td>0</td>\n",
       "      <td>7.939</td>\n",
       "      <td>0</td>\n",
       "      <td>0</td>\n",
       "      <td>1</td>\n",
       "    </tr>\n",
       "    <tr>\n",
       "      <th>9</th>\n",
       "      <td>5.040</td>\n",
       "      <td>3.6112</td>\n",
       "      <td>0</td>\n",
       "      <td>0</td>\n",
       "      <td>1</td>\n",
       "      <td>0</td>\n",
       "      <td>2</td>\n",
       "      <td>41.2</td>\n",
       "      <td>0</td>\n",
       "      <td>4</td>\n",
       "      <td>...</td>\n",
       "      <td>1</td>\n",
       "      <td>2</td>\n",
       "      <td>1</td>\n",
       "      <td>3.888</td>\n",
       "      <td>3.500</td>\n",
       "      <td>1</td>\n",
       "      <td>8.706</td>\n",
       "      <td>0</td>\n",
       "      <td>0</td>\n",
       "      <td>1</td>\n",
       "    </tr>\n",
       "  </tbody>\n",
       "</table>\n",
       "<p>10 rows × 42 columns</p>\n",
       "</div>"
      ],
      "text/plain": [
       "   SpMax_L   J_Dze  nHM  F01NN  F04CN  NssssC  nCb    C%  nCp  nO  ...  C026  \\\n",
       "0    3.919  2.6909    0      0      0       0    0  31.4    2   0  ...     0   \n",
       "1    4.170  2.1144    0      0      0       0    0  30.8    1   1  ...     0   \n",
       "2    3.932  3.2512    0      0      0       0    0  26.7    2   4  ...     0   \n",
       "3    3.000  2.7098    0      0      0       0    0  20.0    0   2  ...     0   \n",
       "4    4.236  3.3944    0      0      0       0    0  29.4    2   4  ...     0   \n",
       "5    4.236  3.4286    0      0      0       0    0  28.6    2   4  ...     0   \n",
       "6    5.000  5.0476    1      0      0       0    0  11.1    0   3  ...     0   \n",
       "7    4.525  3.8301    0      0      0       0    0  31.6    3   2  ...     0   \n",
       "8    4.596  3.0777    0      0      0       0    2  44.4    2   0  ...     0   \n",
       "9    5.040  3.6112    0      0      1       0    2  41.2    0   4  ...     1   \n",
       "\n",
       "   F02CN  nHDon  SpMax_Bm  Psi_i_A  nN  SM6_Bm  nArCOOR  nX  \\\n",
       "0      0      0     2.949    1.591   0   7.253        0   0   \n",
       "1      0      0     3.315    1.967   0   7.257        0   0   \n",
       "2      0      1     3.076    2.417   0   7.601        0   0   \n",
       "3      0      1     3.046    5.000   0   6.690        0   0   \n",
       "4      0      0     3.351    2.405   0   8.003        0   0   \n",
       "5      0      0     3.351    2.556   0   7.904        0   0   \n",
       "6      0      1     4.712    4.583   0   9.303        0   0   \n",
       "7      0      0     3.379    2.143   0   7.950        0   0   \n",
       "8      0      0     3.626    1.917   0   7.939        0   0   \n",
       "9      2      1     3.888    3.500   1   8.706        0   0   \n",
       "\n",
       "   experimental_class  \n",
       "0                   1  \n",
       "1                   1  \n",
       "2                   1  \n",
       "3                   1  \n",
       "4                   1  \n",
       "5                   1  \n",
       "6                   1  \n",
       "7                   1  \n",
       "8                   1  \n",
       "9                   1  \n",
       "\n",
       "[10 rows x 42 columns]"
      ]
     },
     "execution_count": 3,
     "metadata": {},
     "output_type": "execute_result"
    }
   ],
   "source": [
    "qsar.head(10)"
   ]
  },
  {
   "cell_type": "code",
   "execution_count": 4,
   "metadata": {
    "scrolled": true
   },
   "outputs": [
    {
     "name": "stdout",
     "output_type": "stream",
     "text": [
      "<class 'pandas.core.frame.DataFrame'>\n",
      "RangeIndex: 1055 entries, 0 to 1054\n",
      "Data columns (total 42 columns):\n",
      " #   Column              Non-Null Count  Dtype  \n",
      "---  ------              --------------  -----  \n",
      " 0   SpMax_L             1055 non-null   float64\n",
      " 1   J_Dze               1055 non-null   float64\n",
      " 2   nHM                 1055 non-null   int64  \n",
      " 3   F01NN               1055 non-null   int64  \n",
      " 4   F04CN               1055 non-null   int64  \n",
      " 5   NssssC              1055 non-null   int64  \n",
      " 6   nCb                 1055 non-null   int64  \n",
      " 7   C%                  1055 non-null   float64\n",
      " 8   nCp                 1055 non-null   int64  \n",
      " 9   nO                  1055 non-null   int64  \n",
      " 10  F03CN               1055 non-null   int64  \n",
      " 11  SdssC               1055 non-null   float64\n",
      " 12  HyWi_Bm             1055 non-null   float64\n",
      " 13  LOC                 1055 non-null   float64\n",
      " 14  SM6_L               1055 non-null   float64\n",
      " 15  F03CO               1055 non-null   int64  \n",
      " 16  Me                  1055 non-null   float64\n",
      " 17  Mi                  1055 non-null   float64\n",
      " 18  nNN                 1055 non-null   int64  \n",
      " 19  nArNO2              1055 non-null   int64  \n",
      " 20  nCRX3               1055 non-null   int64  \n",
      " 21  SpPosA_Bp           1055 non-null   float64\n",
      " 22  nCIR                1055 non-null   int64  \n",
      " 23  B01CBr              1055 non-null   int64  \n",
      " 24  B03CCl              1055 non-null   int64  \n",
      " 25  N073                1055 non-null   int64  \n",
      " 26  SpMax_A             1055 non-null   float64\n",
      " 27  Psi_i_1d            1055 non-null   float64\n",
      " 28  B04CBr              1055 non-null   int64  \n",
      " 29  SdO                 1055 non-null   float64\n",
      " 30  TI2_L               1055 non-null   float64\n",
      " 31  nCrt                1055 non-null   int64  \n",
      " 32  C026                1055 non-null   int64  \n",
      " 33  F02CN               1055 non-null   int64  \n",
      " 34  nHDon               1055 non-null   int64  \n",
      " 35  SpMax_Bm            1055 non-null   float64\n",
      " 36  Psi_i_A             1055 non-null   float64\n",
      " 37  nN                  1055 non-null   int64  \n",
      " 38  SM6_Bm              1055 non-null   float64\n",
      " 39  nArCOOR             1055 non-null   int64  \n",
      " 40  nX                  1055 non-null   int64  \n",
      " 41  experimental_class  1055 non-null   int32  \n",
      "dtypes: float64(17), int32(1), int64(24)\n",
      "memory usage: 342.2 KB\n"
     ]
    }
   ],
   "source": [
    "qsar.info()"
   ]
  },
  {
   "cell_type": "code",
   "execution_count": 5,
   "metadata": {},
   "outputs": [
    {
     "data": {
      "text/html": [
       "<div>\n",
       "<style scoped>\n",
       "    .dataframe tbody tr th:only-of-type {\n",
       "        vertical-align: middle;\n",
       "    }\n",
       "\n",
       "    .dataframe tbody tr th {\n",
       "        vertical-align: top;\n",
       "    }\n",
       "\n",
       "    .dataframe thead th {\n",
       "        text-align: right;\n",
       "    }\n",
       "</style>\n",
       "<table border=\"1\" class=\"dataframe\">\n",
       "  <thead>\n",
       "    <tr style=\"text-align: right;\">\n",
       "      <th></th>\n",
       "      <th>SpMax_L</th>\n",
       "      <th>J_Dze</th>\n",
       "      <th>nHM</th>\n",
       "      <th>F01NN</th>\n",
       "      <th>F04CN</th>\n",
       "      <th>NssssC</th>\n",
       "      <th>nCb</th>\n",
       "      <th>C%</th>\n",
       "      <th>nCp</th>\n",
       "      <th>nO</th>\n",
       "      <th>...</th>\n",
       "      <th>C026</th>\n",
       "      <th>F02CN</th>\n",
       "      <th>nHDon</th>\n",
       "      <th>SpMax_Bm</th>\n",
       "      <th>Psi_i_A</th>\n",
       "      <th>nN</th>\n",
       "      <th>SM6_Bm</th>\n",
       "      <th>nArCOOR</th>\n",
       "      <th>nX</th>\n",
       "      <th>experimental_class</th>\n",
       "    </tr>\n",
       "  </thead>\n",
       "  <tbody>\n",
       "    <tr>\n",
       "      <th>count</th>\n",
       "      <td>1055.000000</td>\n",
       "      <td>1055.000000</td>\n",
       "      <td>1055.000000</td>\n",
       "      <td>1055.000000</td>\n",
       "      <td>1055.000000</td>\n",
       "      <td>1055.000000</td>\n",
       "      <td>1055.000000</td>\n",
       "      <td>1055.000000</td>\n",
       "      <td>1055.000000</td>\n",
       "      <td>1055.000000</td>\n",
       "      <td>...</td>\n",
       "      <td>1055.000000</td>\n",
       "      <td>1055.000000</td>\n",
       "      <td>1055.000000</td>\n",
       "      <td>1055.000000</td>\n",
       "      <td>1055.000000</td>\n",
       "      <td>1055.000000</td>\n",
       "      <td>1055.000000</td>\n",
       "      <td>1055.000000</td>\n",
       "      <td>1055.000000</td>\n",
       "      <td>1055.000000</td>\n",
       "    </tr>\n",
       "    <tr>\n",
       "      <th>mean</th>\n",
       "      <td>4.782644</td>\n",
       "      <td>3.069508</td>\n",
       "      <td>0.716588</td>\n",
       "      <td>0.042654</td>\n",
       "      <td>0.980095</td>\n",
       "      <td>0.290047</td>\n",
       "      <td>1.646445</td>\n",
       "      <td>37.055640</td>\n",
       "      <td>1.376303</td>\n",
       "      <td>1.803791</td>\n",
       "      <td>...</td>\n",
       "      <td>0.883412</td>\n",
       "      <td>1.274882</td>\n",
       "      <td>0.961137</td>\n",
       "      <td>3.918240</td>\n",
       "      <td>2.558417</td>\n",
       "      <td>0.686256</td>\n",
       "      <td>8.629492</td>\n",
       "      <td>0.051185</td>\n",
       "      <td>0.723223</td>\n",
       "      <td>0.337441</td>\n",
       "    </tr>\n",
       "    <tr>\n",
       "      <th>std</th>\n",
       "      <td>0.546916</td>\n",
       "      <td>0.831308</td>\n",
       "      <td>1.462452</td>\n",
       "      <td>0.256010</td>\n",
       "      <td>2.332955</td>\n",
       "      <td>1.073771</td>\n",
       "      <td>2.224822</td>\n",
       "      <td>9.144466</td>\n",
       "      <td>1.963521</td>\n",
       "      <td>1.775435</td>\n",
       "      <td>...</td>\n",
       "      <td>1.520467</td>\n",
       "      <td>2.273994</td>\n",
       "      <td>1.257013</td>\n",
       "      <td>0.999602</td>\n",
       "      <td>0.642765</td>\n",
       "      <td>1.090389</td>\n",
       "      <td>1.241986</td>\n",
       "      <td>0.318970</td>\n",
       "      <td>2.239286</td>\n",
       "      <td>0.473061</td>\n",
       "    </tr>\n",
       "    <tr>\n",
       "      <th>min</th>\n",
       "      <td>2.000000</td>\n",
       "      <td>0.803900</td>\n",
       "      <td>0.000000</td>\n",
       "      <td>0.000000</td>\n",
       "      <td>0.000000</td>\n",
       "      <td>0.000000</td>\n",
       "      <td>0.000000</td>\n",
       "      <td>0.000000</td>\n",
       "      <td>0.000000</td>\n",
       "      <td>0.000000</td>\n",
       "      <td>...</td>\n",
       "      <td>0.000000</td>\n",
       "      <td>0.000000</td>\n",
       "      <td>0.000000</td>\n",
       "      <td>2.267000</td>\n",
       "      <td>1.467000</td>\n",
       "      <td>0.000000</td>\n",
       "      <td>4.917000</td>\n",
       "      <td>0.000000</td>\n",
       "      <td>0.000000</td>\n",
       "      <td>0.000000</td>\n",
       "    </tr>\n",
       "    <tr>\n",
       "      <th>25%</th>\n",
       "      <td>4.481000</td>\n",
       "      <td>2.502750</td>\n",
       "      <td>0.000000</td>\n",
       "      <td>0.000000</td>\n",
       "      <td>0.000000</td>\n",
       "      <td>0.000000</td>\n",
       "      <td>0.000000</td>\n",
       "      <td>30.450000</td>\n",
       "      <td>0.000000</td>\n",
       "      <td>0.000000</td>\n",
       "      <td>...</td>\n",
       "      <td>0.000000</td>\n",
       "      <td>0.000000</td>\n",
       "      <td>0.000000</td>\n",
       "      <td>3.487500</td>\n",
       "      <td>2.103000</td>\n",
       "      <td>0.000000</td>\n",
       "      <td>7.991000</td>\n",
       "      <td>0.000000</td>\n",
       "      <td>0.000000</td>\n",
       "      <td>0.000000</td>\n",
       "    </tr>\n",
       "    <tr>\n",
       "      <th>50%</th>\n",
       "      <td>4.828000</td>\n",
       "      <td>3.046300</td>\n",
       "      <td>0.000000</td>\n",
       "      <td>0.000000</td>\n",
       "      <td>0.000000</td>\n",
       "      <td>0.000000</td>\n",
       "      <td>1.000000</td>\n",
       "      <td>37.500000</td>\n",
       "      <td>1.000000</td>\n",
       "      <td>2.000000</td>\n",
       "      <td>...</td>\n",
       "      <td>0.000000</td>\n",
       "      <td>0.000000</td>\n",
       "      <td>1.000000</td>\n",
       "      <td>3.726000</td>\n",
       "      <td>2.458000</td>\n",
       "      <td>0.000000</td>\n",
       "      <td>8.499000</td>\n",
       "      <td>0.000000</td>\n",
       "      <td>0.000000</td>\n",
       "      <td>0.000000</td>\n",
       "    </tr>\n",
       "    <tr>\n",
       "      <th>75%</th>\n",
       "      <td>5.125000</td>\n",
       "      <td>3.437650</td>\n",
       "      <td>1.000000</td>\n",
       "      <td>0.000000</td>\n",
       "      <td>1.000000</td>\n",
       "      <td>0.000000</td>\n",
       "      <td>3.000000</td>\n",
       "      <td>43.400000</td>\n",
       "      <td>2.000000</td>\n",
       "      <td>3.000000</td>\n",
       "      <td>...</td>\n",
       "      <td>1.000000</td>\n",
       "      <td>2.000000</td>\n",
       "      <td>2.000000</td>\n",
       "      <td>3.987000</td>\n",
       "      <td>2.870500</td>\n",
       "      <td>1.000000</td>\n",
       "      <td>9.020500</td>\n",
       "      <td>0.000000</td>\n",
       "      <td>0.000000</td>\n",
       "      <td>1.000000</td>\n",
       "    </tr>\n",
       "    <tr>\n",
       "      <th>max</th>\n",
       "      <td>6.496000</td>\n",
       "      <td>9.177500</td>\n",
       "      <td>12.000000</td>\n",
       "      <td>3.000000</td>\n",
       "      <td>36.000000</td>\n",
       "      <td>13.000000</td>\n",
       "      <td>18.000000</td>\n",
       "      <td>60.700000</td>\n",
       "      <td>24.000000</td>\n",
       "      <td>12.000000</td>\n",
       "      <td>...</td>\n",
       "      <td>12.000000</td>\n",
       "      <td>18.000000</td>\n",
       "      <td>7.000000</td>\n",
       "      <td>10.695000</td>\n",
       "      <td>5.825000</td>\n",
       "      <td>8.000000</td>\n",
       "      <td>14.700000</td>\n",
       "      <td>4.000000</td>\n",
       "      <td>27.000000</td>\n",
       "      <td>1.000000</td>\n",
       "    </tr>\n",
       "  </tbody>\n",
       "</table>\n",
       "<p>8 rows × 42 columns</p>\n",
       "</div>"
      ],
      "text/plain": [
       "           SpMax_L        J_Dze          nHM        F01NN        F04CN  \\\n",
       "count  1055.000000  1055.000000  1055.000000  1055.000000  1055.000000   \n",
       "mean      4.782644     3.069508     0.716588     0.042654     0.980095   \n",
       "std       0.546916     0.831308     1.462452     0.256010     2.332955   \n",
       "min       2.000000     0.803900     0.000000     0.000000     0.000000   \n",
       "25%       4.481000     2.502750     0.000000     0.000000     0.000000   \n",
       "50%       4.828000     3.046300     0.000000     0.000000     0.000000   \n",
       "75%       5.125000     3.437650     1.000000     0.000000     1.000000   \n",
       "max       6.496000     9.177500    12.000000     3.000000    36.000000   \n",
       "\n",
       "            NssssC          nCb           C%          nCp           nO  ...  \\\n",
       "count  1055.000000  1055.000000  1055.000000  1055.000000  1055.000000  ...   \n",
       "mean      0.290047     1.646445    37.055640     1.376303     1.803791  ...   \n",
       "std       1.073771     2.224822     9.144466     1.963521     1.775435  ...   \n",
       "min       0.000000     0.000000     0.000000     0.000000     0.000000  ...   \n",
       "25%       0.000000     0.000000    30.450000     0.000000     0.000000  ...   \n",
       "50%       0.000000     1.000000    37.500000     1.000000     2.000000  ...   \n",
       "75%       0.000000     3.000000    43.400000     2.000000     3.000000  ...   \n",
       "max      13.000000    18.000000    60.700000    24.000000    12.000000  ...   \n",
       "\n",
       "              C026        F02CN        nHDon     SpMax_Bm      Psi_i_A  \\\n",
       "count  1055.000000  1055.000000  1055.000000  1055.000000  1055.000000   \n",
       "mean      0.883412     1.274882     0.961137     3.918240     2.558417   \n",
       "std       1.520467     2.273994     1.257013     0.999602     0.642765   \n",
       "min       0.000000     0.000000     0.000000     2.267000     1.467000   \n",
       "25%       0.000000     0.000000     0.000000     3.487500     2.103000   \n",
       "50%       0.000000     0.000000     1.000000     3.726000     2.458000   \n",
       "75%       1.000000     2.000000     2.000000     3.987000     2.870500   \n",
       "max      12.000000    18.000000     7.000000    10.695000     5.825000   \n",
       "\n",
       "                nN       SM6_Bm      nArCOOR           nX  experimental_class  \n",
       "count  1055.000000  1055.000000  1055.000000  1055.000000         1055.000000  \n",
       "mean      0.686256     8.629492     0.051185     0.723223            0.337441  \n",
       "std       1.090389     1.241986     0.318970     2.239286            0.473061  \n",
       "min       0.000000     4.917000     0.000000     0.000000            0.000000  \n",
       "25%       0.000000     7.991000     0.000000     0.000000            0.000000  \n",
       "50%       0.000000     8.499000     0.000000     0.000000            0.000000  \n",
       "75%       1.000000     9.020500     0.000000     0.000000            1.000000  \n",
       "max       8.000000    14.700000     4.000000    27.000000            1.000000  \n",
       "\n",
       "[8 rows x 42 columns]"
      ]
     },
     "execution_count": 5,
     "metadata": {},
     "output_type": "execute_result"
    }
   ],
   "source": [
    "qsar.describe()"
   ]
  },
  {
   "cell_type": "code",
   "execution_count": 6,
   "metadata": {},
   "outputs": [
    {
     "data": {
      "text/plain": [
       "0    699\n",
       "1    356\n",
       "Name: experimental_class, dtype: int64"
      ]
     },
     "execution_count": 6,
     "metadata": {},
     "output_type": "execute_result"
    }
   ],
   "source": [
    "qsar.experimental_class.value_counts()"
   ]
  },
  {
   "cell_type": "code",
   "execution_count": 7,
   "metadata": {},
   "outputs": [],
   "source": [
    "# Spliting columns to categorical and continuous variables \n",
    "qsar_cat = qsar.select_dtypes(include='int64')  # total 24 columns\n",
    "qsar_con = qsar.select_dtypes(include='float64')  # total 17 columns"
   ]
  },
  {
   "cell_type": "code",
   "execution_count": 8,
   "metadata": {},
   "outputs": [
    {
     "data": {
      "image/png": "[encoded data removed]",
      "text/plain": [
       "<Figure size 432x288 with 1 Axes>"
      ]
     },
     "metadata": {
      "needs_background": "light"
     },
     "output_type": "display_data"
    },
    {
     "data": {
      "image/png": "[encoded data removed]",
      "text/plain": [
       "<Figure size 432x288 with 1 Axes>"
      ]
     },
     "metadata": {
      "needs_background": "light"
     },
     "output_type": "display_data"
    },
    {
     "data": {
      "image/png": "[encoded data removed]",
      "text/plain": [
       "<Figure size 432x288 with 1 Axes>"
      ]
     },
     "metadata": {
      "needs_background": "light"
     },
     "output_type": "display_data"
    },
    {
     "data": {
      "image/png": "[encoded data removed]",
      "text/plain": [
       "<Figure size 432x288 with 1 Axes>"
      ]
     },
     "metadata": {
      "needs_background": "light"
     },
     "output_type": "display_data"
    },
    {
     "data": {
      "image/png": "[encoded data removed]",
      "text/plain": [
       "<Figure size 432x288 with 1 Axes>"
      ]
     },
     "metadata": {
      "needs_background": "light"
     },
     "output_type": "display_data"
    },
    {
     "data": {
      "image/png": "[encoded data removed]",
      "text/plain": [
       "<Figure size 432x288 with 1 Axes>"
      ]
     },
     "metadata": {
      "needs_background": "light"
     },
     "output_type": "display_data"
    },
    {
     "data": {
      "image/png": "[encoded data removed]",
      "text/plain": [
       "<Figure size 432x288 with 1 Axes>"
      ]
     },
     "metadata": {
      "needs_background": "light"
     },
     "output_type": "display_data"
    },
    {
     "data": {
      "image/png": "[encoded data removed]",
      "text/plain": [
       "<Figure size 432x288 with 1 Axes>"
      ]
     },
     "metadata": {
      "needs_background": "light"
     },
     "output_type": "display_data"
    },
    {
     "data": {
      "image/png": "[encoded data removed]",
      "text/plain": [
       "<Figure size 432x288 with 1 Axes>"
      ]
     },
     "metadata": {
      "needs_background": "light"
     },
     "output_type": "display_data"
    },
    {
     "data": {
      "image/png": "[encoded data removed]",
      "text/plain": [
       "<Figure size 432x288 with 1 Axes>"
      ]
     },
     "metadata": {
      "needs_background": "light"
     },
     "output_type": "display_data"
    },
    {
     "data": {
      "image/png": "[encoded data removed]",
      "text/plain": [
       "<Figure size 432x288 with 1 Axes>"
      ]
     },
     "metadata": {
      "needs_background": "light"
     },
     "output_type": "display_data"
    },
    {
     "data": {
      "image/png": "[encoded data removed]",
      "text/plain": [
       "<Figure size 432x288 with 1 Axes>"
      ]
     },
     "metadata": {
      "needs_background": "light"
     },
     "output_type": "display_data"
    },
    {
     "data": {
      "image/png": "[encoded data removed]",
      "text/plain": [
       "<Figure size 432x288 with 1 Axes>"
      ]
     },
     "metadata": {
      "needs_background": "light"
     },
     "output_type": "display_data"
    },
    {
     "data": {
      "image/png": "[encoded data removed]",
      "text/plain": [
       "<Figure size 432x288 with 1 Axes>"
      ]
     },
     "metadata": {
      "needs_background": "light"
     },
     "output_type": "display_data"
    },
    {
     "data": {
      "image/png": "[encoded data removed]",
      "text/plain": [
       "<Figure size 432x288 with 1 Axes>"
      ]
     },
     "metadata": {
      "needs_background": "light"
     },
     "output_type": "display_data"
    },
    {
     "data": {
      "image/png": "[encoded data removed]",
      "text/plain": [
       "<Figure size 432x288 with 1 Axes>"
      ]
     },
     "metadata": {
      "needs_background": "light"
     },
     "output_type": "display_data"
    },
    {
     "data": {
      "image/png": "[encoded data removed]",
      "text/plain": [
       "<Figure size 432x288 with 1 Axes>"
      ]
     },
     "metadata": {
      "needs_background": "light"
     },
     "output_type": "display_data"
    },
    {
     "data": {
      "image/png": "[encoded data removed]",
      "text/plain": [
       "<Figure size 432x288 with 1 Axes>"
      ]
     },
     "metadata": {
      "needs_background": "light"
     },
     "output_type": "display_data"
    },
    {
     "data": {
      "image/png": "[encoded data removed]",
      "text/plain": [
       "<Figure size 432x288 with 1 Axes>"
      ]
     },
     "metadata": {
      "needs_background": "light"
     },
     "output_type": "display_data"
    },
    {
     "data": {
      "image/png": "[encoded data removed]",
      "text/plain": [
       "<Figure size 432x288 with 1 Axes>"
      ]
     },
     "metadata": {
      "needs_background": "light"
     },
     "output_type": "display_data"
    },
    {
     "data": {
      "image/png": "[encoded data removed]",
      "text/plain": [
       "<Figure size 432x288 with 1 Axes>"
      ]
     },
     "metadata": {
      "needs_background": "light"
     },
     "output_type": "display_data"
    },
    {
     "data": {
      "image/png": "[encoded data removed]",
      "text/plain": [
       "<Figure size 432x288 with 1 Axes>"
      ]
     },
     "metadata": {
      "needs_background": "light"
     },
     "output_type": "display_data"
    },
    {
     "data": {
      "image/png": "[encoded data removed]",
      "text/plain": [
       "<Figure size 432x288 with 1 Axes>"
      ]
     },
     "metadata": {
      "needs_background": "light"
     },
     "output_type": "display_data"
    },
    {
     "data": {
      "image/png": "[encoded data removed]",
      "text/plain": [
       "<Figure size 432x288 with 1 Axes>"
      ]
     },
     "metadata": {
      "needs_background": "light"
     },
     "output_type": "display_data"
    }
   ],
   "source": [
    "for i in qsar_cat.columns:\n",
    "    sns.barplot(qsar_cat[i].value_counts().index, qsar_cat[i].value_counts()).set_title(i)\n",
    "    plt.show()"
   ]
  },
  {
   "cell_type": "code",
   "execution_count": 9,
   "metadata": {},
   "outputs": [
    {
     "data": {
      "image/png": "[encoded data removed]",
      "text/plain": [
       "<Figure size 432x288 with 1 Axes>"
      ]
     },
     "metadata": {
      "needs_background": "light"
     },
     "output_type": "display_data"
    },
    {
     "data": {
      "image/png": "[encoded data removed]",
      "text/plain": [
       "<Figure size 432x288 with 1 Axes>"
      ]
     },
     "metadata": {
      "needs_background": "light"
     },
     "output_type": "display_data"
    },
    {
     "data": {
      "image/png": "[encoded data removed]",
      "text/plain": [
       "<Figure size 432x288 with 1 Axes>"
      ]
     },
     "metadata": {
      "needs_background": "light"
     },
     "output_type": "display_data"
    },
    {
     "data": {
      "image/png": "[encoded data removed]",
      "text/plain": [
       "<Figure size 432x288 with 1 Axes>"
      ]
     },
     "metadata": {
      "needs_background": "light"
     },
     "output_type": "display_data"
    },
    {
     "data": {
      "image/png": "[encoded data removed]",
      "text/plain": [
       "<Figure size 432x288 with 1 Axes>"
      ]
     },
     "metadata": {
      "needs_background": "light"
     },
     "output_type": "display_data"
    },
    {
     "data": {
      "image/png": "[encoded data removed]",
      "text/plain": [
       "<Figure size 432x288 with 1 Axes>"
      ]
     },
     "metadata": {
      "needs_background": "light"
     },
     "output_type": "display_data"
    },
    {
     "data": {
      "image/png": "[encoded data removed]",
      "text/plain": [
       "<Figure size 432x288 with 1 Axes>"
      ]
     },
     "metadata": {
      "needs_background": "light"
     },
     "output_type": "display_data"
    },
    {
     "data": {
      "image/png": "[encoded data removed]",
      "text/plain": [
       "<Figure size 432x288 with 1 Axes>"
      ]
     },
     "metadata": {
      "needs_background": "light"
     },
     "output_type": "display_data"
    },
    {
     "data": {
      "image/png": "[encoded data removed]",
      "text/plain": [
       "<Figure size 432x288 with 1 Axes>"
      ]
     },
     "metadata": {
      "needs_background": "light"
     },
     "output_type": "display_data"
    },
    {
     "data": {
      "image/png": "[encoded data removed]",
      "text/plain": [
       "<Figure size 432x288 with 1 Axes>"
      ]
     },
     "metadata": {
      "needs_background": "light"
     },
     "output_type": "display_data"
    },
    {
     "data": {
      "image/png": "[encoded data removed]",
      "text/plain": [
       "<Figure size 432x288 with 1 Axes>"
      ]
     },
     "metadata": {
      "needs_background": "light"
     },
     "output_type": "display_data"
    },
    {
     "data": {
      "image/png": "[encoded data removed]",
      "text/plain": [
       "<Figure size 432x288 with 1 Axes>"
      ]
     },
     "metadata": {
      "needs_background": "light"
     },
     "output_type": "display_data"
    },
    {
     "data": {
      "image/png": "[encoded data removed]",
      "text/plain": [
       "<Figure size 432x288 with 1 Axes>"
      ]
     },
     "metadata": {
      "needs_background": "light"
     },
     "output_type": "display_data"
    },
    {
     "data": {
      "image/png": "[encoded data removed]",
      "text/plain": [
       "<Figure size 432x288 with 1 Axes>"
      ]
     },
     "metadata": {
      "needs_background": "light"
     },
     "output_type": "display_data"
    },
    {
     "data": {
      "image/png": "[encoded data removed]",
      "text/plain": [
       "<Figure size 432x288 with 1 Axes>"
      ]
     },
     "metadata": {
      "needs_background": "light"
     },
     "output_type": "display_data"
    },
    {
     "data": {
      "image/png": "[encoded data removed]",
      "text/plain": [
       "<Figure size 432x288 with 1 Axes>"
      ]
     },
     "metadata": {
      "needs_background": "light"
     },
     "output_type": "display_data"
    },
    {
     "data": {
      "image/png": "[encoded data removed]",
      "text/plain": [
       "<Figure size 432x288 with 1 Axes>"
      ]
     },
     "metadata": {
      "needs_background": "light"
     },
     "output_type": "display_data"
    }
   ],
   "source": [
    "# distribution for all continuous variables using histogram\n",
    "for i in qsar_con.columns:\n",
    "    plt.hist(qsar_con[i])\n",
    "    plt.title(i)\n",
    "    plt.show()"
   ]
  },
  {
   "cell_type": "markdown",
   "metadata": {},
   "source": [
    "# Feature Engineering\n",
    "\n",
    "1. Declaring X and y variables\n",
    "2. Use ANOVA (f_classif) to select the best features"
   ]
  },
  {
   "cell_type": "code",
   "execution_count": 10,
   "metadata": {},
   "outputs": [],
   "source": [
    "y = qsar['experimental_class']\n",
    "X = qsar.drop(columns='experimental_class')"
   ]
  },
  {
   "cell_type": "code",
   "execution_count": 11,
   "metadata": {
    "scrolled": false
   },
   "outputs": [
    {
     "name": "stdout",
     "output_type": "stream",
     "text": [
      "Feature 1 (SpMax_L): 195.999690\n",
      "Feature 27 (SpMax_A): 188.835426\n",
      "Feature 22 (SpPosA_Bp): 169.390245\n",
      "Feature 39 (SM6_Bm): 163.690168\n",
      "Feature 13 (HyWi_Bm): 141.126544\n",
      "Feature 15 (SM6_L): 140.752426\n",
      "Feature 7 (nCb): 135.151782\n",
      "Feature 33 (C026): 118.916644\n",
      "Feature 3 (nHM): 103.463027\n",
      "Feature 36 (SpMax_Bm): 96.411675\n",
      "Feature 14 (LOC): 86.365580\n",
      "Feature 34 (F02CN): 82.057578\n",
      "Feature 38 (nN): 77.450978\n",
      "Feature 25 (B03CCl): 71.466604\n",
      "Feature 11 (F03CN): 65.691318\n",
      "Feature 5 (F04CN): 61.339528\n",
      "Feature 41 (nX): 50.773587\n",
      "Feature 8 (C%): 44.611199\n",
      "Feature 10 (nO): 34.129262\n",
      "Feature 31 (TI2_L): 32.709270\n",
      "Feature 6 (NssssC): 31.508325\n",
      "Feature 20 (nArNO2): 25.457085\n",
      "Feature 40 (nArCOOR): 24.076257\n",
      "Feature 18 (Mi): 18.545029\n",
      "Feature 23 (nCIR): 14.516704\n",
      "Feature 37 (Psi_i_A): 14.086633\n",
      "Feature 24 (B01CBr): 14.001863\n",
      "Feature 12 (SdssC): 13.479685\n",
      "Feature 32 (nCrt): 12.101096\n",
      "Feature 4 (F01NN): 11.355478\n",
      "Feature 21 (nCRX3): 9.843964\n",
      "Feature 29 (B04CBr): 9.165594\n",
      "Feature 26 (N073): 8.953312\n",
      "Feature 17 (Me): 8.894285\n",
      "Feature 19 (nNN): 3.783036\n",
      "Feature 9 (nCp): 3.329425\n",
      "Feature 30 (SdO): 3.038067\n",
      "Feature 35 (nHDon): 0.790393\n",
      "Feature 28 (Psi_i_1d): 0.659673\n",
      "Feature 16 (F03CO): 0.008727\n",
      "Feature 2 (J_Dze): 0.003802\n"
     ]
    }
   ],
   "source": [
    "# Using ANOVA feature selection\n",
    "from sklearn.feature_selection import f_classif, SelectKBest\n",
    "anova = SelectKBest(score_func=f_classif, k='all')  \n",
    "anova.fit(X, y)\n",
    "sortlist = []\n",
    "col_name = []\n",
    "\n",
    "# print all scores for all features in descending order\n",
    "for i in range(len(anova.scores_)):\n",
    "    sortlist.append([i+1, anova.scores_[i]])\n",
    "\n",
    "sortlist.sort(key = lambda x:x[1], reverse = True)\n",
    "\n",
    "for j in range(len(anova.scores_)):\n",
    "    feature_num = sortlist[j][0]\n",
    "    feature_value = sortlist[j][1]\n",
    "    feature_name = X.columns[feature_num-1]\n",
    "    col_name.append(feature_name)\n",
    "    print('Feature %d (%s): %f' %(feature_num, feature_name, feature_value))\n",
    "\n",
    "# print('Feature %d: %f' %(i+1,anova.scores_[i]))"
   ]
  },
  {
   "cell_type": "code",
   "execution_count": 12,
   "metadata": {
    "scrolled": true
   },
   "outputs": [],
   "source": [
    "# Rearrange the dataframe based on the score and add experiment_class in the end\n",
    "# col_name.append(\"experimental_class\")\n",
    "qsar_anova = qsar[col_name[:6] + ['experimental_class']]"
   ]
  },
  {
   "cell_type": "markdown",
   "metadata": {},
   "source": [
    "# Model Preprocessing\n",
    "\n",
    "1. Scaling data using MinMaxScaler\n",
    "2. Checking the max and min values of each column according to their experimental class values (NRB, RB)"
   ]
  },
  {
   "cell_type": "code",
   "execution_count": 13,
   "metadata": {},
   "outputs": [],
   "source": [
    "# Scaling data\n",
    "from sklearn.preprocessing import MinMaxScaler\n",
    "scaler = MinMaxScaler()\n",
    "qsar_norm = pd.DataFrame(scaler.fit_transform(qsar_anova), columns=qsar_anova.columns)\n",
    "qsar_norm['experimental_class'] = qsar['experimental_class']"
   ]
  },
  {
   "cell_type": "markdown",
   "metadata": {},
   "source": [
    "Checking the minimum and maximum values for all the columns to make the boundaries for fuzzy rule."
   ]
  },
  {
   "cell_type": "code",
   "execution_count": 14,
   "metadata": {},
   "outputs": [],
   "source": [
    "# To set all the columns\n",
    "pd.set_option('max_columns', None)\n",
    "\n",
    "# The places after decimal point is 5.\n",
    "pd.set_option('precision', 5)"
   ]
  },
  {
   "cell_type": "code",
   "execution_count": 15,
   "metadata": {
    "scrolled": false
   },
   "outputs": [
    {
     "data": {
      "text/plain": [
       "SpMax_L               0.0\n",
       "SpMax_A               0.0\n",
       "SpPosA_Bp             0.0\n",
       "SM6_Bm                0.0\n",
       "HyWi_Bm               0.0\n",
       "SM6_L                 0.0\n",
       "experimental_class    0.0\n",
       "dtype: float64"
      ]
     },
     "execution_count": 15,
     "metadata": {},
     "output_type": "execute_result"
    }
   ],
   "source": [
    "qsar_norm.loc[qsar_norm['experimental_class'] == 0].min()"
   ]
  },
  {
   "cell_type": "code",
   "execution_count": 16,
   "metadata": {
    "scrolled": true
   },
   "outputs": [
    {
     "data": {
      "text/plain": [
       "SpMax_L               1.0\n",
       "SpMax_A               1.0\n",
       "SpPosA_Bp             1.0\n",
       "SM6_Bm                1.0\n",
       "HyWi_Bm               1.0\n",
       "SM6_L                 1.0\n",
       "experimental_class    0.0\n",
       "dtype: float64"
      ]
     },
     "execution_count": 16,
     "metadata": {},
     "output_type": "execute_result"
    }
   ],
   "source": [
    "qsar_norm.loc[qsar_norm['experimental_class'] == 0].max()"
   ]
  },
  {
   "cell_type": "code",
   "execution_count": 17,
   "metadata": {
    "scrolled": true
   },
   "outputs": [
    {
     "data": {
      "text/plain": [
       "SpMax_L               0.00000\n",
       "SpMax_A               0.00000\n",
       "SpPosA_Bp             0.08612\n",
       "SM6_Bm                0.00317\n",
       "HyWi_Bm               0.00120\n",
       "SM6_L                 0.00000\n",
       "experimental_class    1.00000\n",
       "dtype: float64"
      ]
     },
     "execution_count": 17,
     "metadata": {},
     "output_type": "execute_result"
    }
   ],
   "source": [
    "qsar_norm.loc[qsar_norm['experimental_class'] == 1].min()"
   ]
  },
  {
   "cell_type": "code",
   "execution_count": 18,
   "metadata": {},
   "outputs": [
    {
     "data": {
      "text/plain": [
       "SpMax_L               0.84831\n",
       "SpMax_A               0.87144\n",
       "SpPosA_Bp             0.85990\n",
       "SM6_Bm                0.68435\n",
       "HyWi_Bm               0.84171\n",
       "SM6_L                 0.88773\n",
       "experimental_class    1.00000\n",
       "dtype: float64"
      ]
     },
     "execution_count": 18,
     "metadata": {},
     "output_type": "execute_result"
    }
   ],
   "source": [
    "qsar_norm.loc[qsar_norm['experimental_class'] == 1].max()"
   ]
  },
  {
   "cell_type": "code",
   "execution_count": 19,
   "metadata": {
    "scrolled": false
   },
   "outputs": [
    {
     "data": {
      "text/html": [
       "<div>\n",
       "<style scoped>\n",
       "    .dataframe tbody tr th:only-of-type {\n",
       "        vertical-align: middle;\n",
       "    }\n",
       "\n",
       "    .dataframe tbody tr th {\n",
       "        vertical-align: top;\n",
       "    }\n",
       "\n",
       "    .dataframe thead th {\n",
       "        text-align: right;\n",
       "    }\n",
       "</style>\n",
       "<table border=\"1\" class=\"dataframe\">\n",
       "  <thead>\n",
       "    <tr style=\"text-align: right;\">\n",
       "      <th></th>\n",
       "      <th>SpMax_L</th>\n",
       "      <th>SpMax_A</th>\n",
       "      <th>SpPosA_Bp</th>\n",
       "      <th>SM6_Bm</th>\n",
       "      <th>HyWi_Bm</th>\n",
       "      <th>SM6_L</th>\n",
       "      <th>nCb</th>\n",
       "      <th>C026</th>\n",
       "      <th>nHM</th>\n",
       "      <th>SpMax_Bm</th>\n",
       "      <th>LOC</th>\n",
       "      <th>F02CN</th>\n",
       "      <th>nN</th>\n",
       "      <th>B03CCl</th>\n",
       "      <th>F03CN</th>\n",
       "      <th>F04CN</th>\n",
       "      <th>nX</th>\n",
       "      <th>C%</th>\n",
       "      <th>nO</th>\n",
       "      <th>TI2_L</th>\n",
       "      <th>NssssC</th>\n",
       "      <th>nArNO2</th>\n",
       "      <th>nArCOOR</th>\n",
       "      <th>Mi</th>\n",
       "      <th>nCIR</th>\n",
       "      <th>Psi_i_A</th>\n",
       "      <th>B01CBr</th>\n",
       "      <th>SdssC</th>\n",
       "      <th>nCrt</th>\n",
       "      <th>F01NN</th>\n",
       "      <th>nCRX3</th>\n",
       "      <th>B04CBr</th>\n",
       "      <th>N073</th>\n",
       "      <th>Me</th>\n",
       "      <th>nNN</th>\n",
       "      <th>nCp</th>\n",
       "      <th>SdO</th>\n",
       "      <th>nHDon</th>\n",
       "      <th>Psi_i_1d</th>\n",
       "      <th>F03CO</th>\n",
       "      <th>J_Dze</th>\n",
       "    </tr>\n",
       "    <tr>\n",
       "      <th>experimental_class</th>\n",
       "      <th></th>\n",
       "      <th></th>\n",
       "      <th></th>\n",
       "      <th></th>\n",
       "      <th></th>\n",
       "      <th></th>\n",
       "      <th></th>\n",
       "      <th></th>\n",
       "      <th></th>\n",
       "      <th></th>\n",
       "      <th></th>\n",
       "      <th></th>\n",
       "      <th></th>\n",
       "      <th></th>\n",
       "      <th></th>\n",
       "      <th></th>\n",
       "      <th></th>\n",
       "      <th></th>\n",
       "      <th></th>\n",
       "      <th></th>\n",
       "      <th></th>\n",
       "      <th></th>\n",
       "      <th></th>\n",
       "      <th></th>\n",
       "      <th></th>\n",
       "      <th></th>\n",
       "      <th></th>\n",
       "      <th></th>\n",
       "      <th></th>\n",
       "      <th></th>\n",
       "      <th></th>\n",
       "      <th></th>\n",
       "      <th></th>\n",
       "      <th></th>\n",
       "      <th></th>\n",
       "      <th></th>\n",
       "      <th></th>\n",
       "      <th></th>\n",
       "      <th></th>\n",
       "      <th></th>\n",
       "      <th></th>\n",
       "    </tr>\n",
       "  </thead>\n",
       "  <tbody>\n",
       "    <tr>\n",
       "      <th>0</th>\n",
       "      <td>0.65329</td>\n",
       "      <td>0.68776</td>\n",
       "      <td>0.51586</td>\n",
       "      <td>0.41270</td>\n",
       "      <td>0.49942</td>\n",
       "      <td>0.71024</td>\n",
       "      <td>NaN</td>\n",
       "      <td>NaN</td>\n",
       "      <td>NaN</td>\n",
       "      <td>NaN</td>\n",
       "      <td>NaN</td>\n",
       "      <td>NaN</td>\n",
       "      <td>NaN</td>\n",
       "      <td>NaN</td>\n",
       "      <td>NaN</td>\n",
       "      <td>NaN</td>\n",
       "      <td>NaN</td>\n",
       "      <td>NaN</td>\n",
       "      <td>NaN</td>\n",
       "      <td>NaN</td>\n",
       "      <td>NaN</td>\n",
       "      <td>NaN</td>\n",
       "      <td>NaN</td>\n",
       "      <td>NaN</td>\n",
       "      <td>NaN</td>\n",
       "      <td>NaN</td>\n",
       "      <td>NaN</td>\n",
       "      <td>NaN</td>\n",
       "      <td>NaN</td>\n",
       "      <td>NaN</td>\n",
       "      <td>NaN</td>\n",
       "      <td>NaN</td>\n",
       "      <td>NaN</td>\n",
       "      <td>NaN</td>\n",
       "      <td>NaN</td>\n",
       "      <td>NaN</td>\n",
       "      <td>NaN</td>\n",
       "      <td>NaN</td>\n",
       "      <td>NaN</td>\n",
       "      <td>NaN</td>\n",
       "      <td>NaN</td>\n",
       "    </tr>\n",
       "    <tr>\n",
       "      <th>1</th>\n",
       "      <td>0.55142</td>\n",
       "      <td>0.58749</td>\n",
       "      <td>0.41829</td>\n",
       "      <td>0.31427</td>\n",
       "      <td>0.39730</td>\n",
       "      <td>0.63032</td>\n",
       "      <td>NaN</td>\n",
       "      <td>NaN</td>\n",
       "      <td>NaN</td>\n",
       "      <td>NaN</td>\n",
       "      <td>NaN</td>\n",
       "      <td>NaN</td>\n",
       "      <td>NaN</td>\n",
       "      <td>NaN</td>\n",
       "      <td>NaN</td>\n",
       "      <td>NaN</td>\n",
       "      <td>NaN</td>\n",
       "      <td>NaN</td>\n",
       "      <td>NaN</td>\n",
       "      <td>NaN</td>\n",
       "      <td>NaN</td>\n",
       "      <td>NaN</td>\n",
       "      <td>NaN</td>\n",
       "      <td>NaN</td>\n",
       "      <td>NaN</td>\n",
       "      <td>NaN</td>\n",
       "      <td>NaN</td>\n",
       "      <td>NaN</td>\n",
       "      <td>NaN</td>\n",
       "      <td>NaN</td>\n",
       "      <td>NaN</td>\n",
       "      <td>NaN</td>\n",
       "      <td>NaN</td>\n",
       "      <td>NaN</td>\n",
       "      <td>NaN</td>\n",
       "      <td>NaN</td>\n",
       "      <td>NaN</td>\n",
       "      <td>NaN</td>\n",
       "      <td>NaN</td>\n",
       "      <td>NaN</td>\n",
       "      <td>NaN</td>\n",
       "    </tr>\n",
       "  </tbody>\n",
       "</table>\n",
       "</div>"
      ],
      "text/plain": [
       "                    SpMax_L  SpMax_A  SpPosA_Bp   SM6_Bm  HyWi_Bm    SM6_L  \\\n",
       "experimental_class                                                           \n",
       "0                   0.65329  0.68776    0.51586  0.41270  0.49942  0.71024   \n",
       "1                   0.55142  0.58749    0.41829  0.31427  0.39730  0.63032   \n",
       "\n",
       "                    nCb  C026  nHM  SpMax_Bm  LOC  F02CN  nN  B03CCl  F03CN  \\\n",
       "experimental_class                                                            \n",
       "0                   NaN   NaN  NaN       NaN  NaN    NaN NaN     NaN    NaN   \n",
       "1                   NaN   NaN  NaN       NaN  NaN    NaN NaN     NaN    NaN   \n",
       "\n",
       "                    F04CN  nX  C%  nO  TI2_L  NssssC  nArNO2  nArCOOR  Mi  \\\n",
       "experimental_class                                                          \n",
       "0                     NaN NaN NaN NaN    NaN     NaN     NaN      NaN NaN   \n",
       "1                     NaN NaN NaN NaN    NaN     NaN     NaN      NaN NaN   \n",
       "\n",
       "                    nCIR  Psi_i_A  B01CBr  SdssC  nCrt  F01NN  nCRX3  B04CBr  \\\n",
       "experimental_class                                                             \n",
       "0                    NaN      NaN     NaN    NaN   NaN    NaN    NaN     NaN   \n",
       "1                    NaN      NaN     NaN    NaN   NaN    NaN    NaN     NaN   \n",
       "\n",
       "                    N073  Me  nNN  nCp  SdO  nHDon  Psi_i_1d  F03CO  J_Dze  \n",
       "experimental_class                                                          \n",
       "0                    NaN NaN  NaN  NaN  NaN    NaN       NaN    NaN    NaN  \n",
       "1                    NaN NaN  NaN  NaN  NaN    NaN       NaN    NaN    NaN  "
      ]
     },
     "execution_count": 19,
     "metadata": {},
     "output_type": "execute_result"
    }
   ],
   "source": [
    "# comparing biodegradable readiness with all the variables\n",
    "# The columns are ranked and arranged based on ANOVA scores.\n",
    "mean = pd.pivot_table(qsar_norm, index = 'experimental_class', values = qsar_norm.columns).reindex(col_name, axis=1)\n",
    "mean"
   ]
  },
  {
   "cell_type": "markdown",
   "metadata": {},
   "source": [
    "Here, we see the mean values for each of the columns for the variables to optimise our membership functions.\n",
    "\n",
    "For example,\n",
    "\n",
    "The mean of SpMax_L for NRB chemical:  0.65329\n",
    "\n",
    "The mean of SpMax_L for RB chemical:  0.55142\n",
    "\n",
    "Here, we see that higher SpMax_L means the chemical is more likely to be NRB."
   ]
  },
  {
   "cell_type": "markdown",
   "metadata": {},
   "source": [
    "# Model Building (Fuzzy Logic)\n",
    "\n",
    "1. Set input and output objects, as well as the membership functions.\n",
    "2. Set suitable rules by examining the values\n",
    "3. Predict the experimental_class value using fuzzy system simulator\n",
    "4. Compare the predicted value with original value and generate accuracy_score, confusion_matrix and classification_report"
   ]
  },
  {
   "cell_type": "markdown",
   "metadata": {},
   "source": [
    "To set the membership functions of the Antecedent and Consequent, we will use minimum, mean and maximum values."
   ]
  },
  {
   "cell_type": "code",
   "execution_count": 20,
   "metadata": {},
   "outputs": [],
   "source": [
    "# These are the input objects\n",
    "SpMax_L = ctrl.Antecedent(np.arange(0, 1, 0.0001), 'SpMax_L')\n",
    "SpMax_A = ctrl.Antecedent(np.arange(0, 1, 0.0001), 'SpMax_A')\n",
    "SpPosA_Bp = ctrl.Antecedent(np.arange(0, 1, 0.0001), 'SpPosA_Bp')\n",
    "SM6_Bm = ctrl.Antecedent(np.arange(0, 1, 0.0001), 'SM6_Bm')\n",
    "HyWi_Bm = ctrl.Antecedent(np.arange(0, 1, 0.0001), 'HyWi_Bm')\n",
    "SM6_L = ctrl.Antecedent(np.arange(0, 1, 0.0001), 'SM6_L')\n",
    "\n",
    "# This is output object (Experimental_class, 0 or 1)\n",
    "eclass = ctrl.Consequent(np.arange(0, 1, 0.0001), 'eclass')"
   ]
  },
  {
   "cell_type": "code",
   "execution_count": 21,
   "metadata": {},
   "outputs": [],
   "source": [
    "# NRB - min, mean, max\n",
    "# RB - min, mean, max\n",
    "SpMax_L['NRB'] = fuzz.trimf(SpMax_L.universe, [0, 0.65329, 1])\n",
    "SpMax_L['RB'] = fuzz.trimf(SpMax_L.universe, [0, 0.55142, 0.84831])\n",
    "\n",
    "SpMax_A['NRB'] = fuzz.trimf(SpMax_A.universe, [0, 0.68776, 1])\n",
    "SpMax_A['RB'] = fuzz.trimf(SpMax_A.universe, [0, 0.58749, 0.87144])\n",
    "\n",
    "SpPosA_Bp['NRB'] = fuzz.trimf(SpPosA_Bp.universe, [0, 0.51586, 1])\n",
    "SpPosA_Bp['RB'] = fuzz.trimf(SpPosA_Bp.universe, [0.08612, 0.41829, 0.85990])\n",
    "\n",
    "SM6_Bm['NRB'] = fuzz.trimf(SM6_Bm.universe, [0, 0.41270, 1])\n",
    "SM6_Bm['RB'] = fuzz.trimf(SM6_Bm.universe, [0.00317, 0.31427, 0.68435])\n",
    "\n",
    "HyWi_Bm['NRB'] = fuzz.trimf(HyWi_Bm.universe, [0, 0.49942, 1])\n",
    "HyWi_Bm['RB'] = fuzz.trimf(HyWi_Bm.universe, [0.00120, 0.39730, 0.84171])\n",
    "\n",
    "SM6_L['NRB'] = fuzz.trimf(SM6_L.universe, [0, 0.71024, 1])\n",
    "SM6_L['RB'] = fuzz.trimf(SM6_L.universe, [0.00000, 0.63032, 0.88773])\n",
    "\n",
    "eclass['RB'] = fuzz.smf(eclass.universe, 0, 1)\n",
    "eclass['NRB'] = fuzz.zmf(eclass.universe, 0, 1)"
   ]
  },
  {
   "cell_type": "code",
   "execution_count": 22,
   "metadata": {
    "scrolled": true
   },
   "outputs": [
    {
     "data": {
      "image/png": "[encoded data removed]",
      "text/plain": [
       "<Figure size 432x288 with 1 Axes>"
      ]
     },
     "metadata": {
      "needs_background": "light"
     },
     "output_type": "display_data"
    }
   ],
   "source": [
    "eclass.view()"
   ]
  },
  {
   "cell_type": "code",
   "execution_count": 23,
   "metadata": {},
   "outputs": [],
   "source": [
    "rule1 = ctrl.Rule(SpMax_L['NRB'], eclass['NRB'])\n",
    "rule2 = ctrl.Rule(SpMax_L['RB'], eclass['RB'])\n",
    "rule3 = ctrl.Rule(SpMax_A['NRB'], eclass['NRB'])\n",
    "rule4 = ctrl.Rule(SpMax_A['RB'], eclass['RB'])\n",
    "rule5 = ctrl.Rule(SpPosA_Bp['NRB'], eclass['NRB'])\n",
    "rule6 = ctrl.Rule(SpPosA_Bp['RB'], eclass['RB'])\n",
    "rule7 = ctrl.Rule(SM6_Bm['NRB'], eclass['NRB'])\n",
    "rule8 = ctrl.Rule(SM6_Bm['RB'], eclass['RB'])\n",
    "#rule9 = ctrl.Rule(HyWi_Bm['NRB'], eclass['NRB'])\n",
    "#rule10 = ctrl.Rule(HyWi_Bm['RB'], eclass['RB'])\n",
    "#rule11 = ctrl.Rule(SM6_L['NRB'], eclass['NRB'])\n",
    "#rule12 = ctrl.Rule(SM6_L['RB'], eclass['RB'])\n",
    "\n",
    "qsar_ctrl = ctrl.ControlSystem([rule1, rule2, rule3, rule4, rule5, rule6, rule7, rule8])\n",
    "qsar_sim = ctrl.ControlSystemSimulation(qsar_ctrl)"
   ]
  },
  {
   "cell_type": "code",
   "execution_count": 24,
   "metadata": {},
   "outputs": [],
   "source": [
    "y_test = pd.DataFrame(columns = ['eclass'])\n",
    "y_pred = pd.DataFrame(columns = ['eclass'])\n",
    "qsar_norm = qsar_norm + 0.0001 # + 0.0001 since normalised dataset has 0\n",
    "for i in range(len(qsar)):\n",
    "    y_test = y_test.append({'eclass': qsar_anova.loc[i].experimental_class}, ignore_index=True)\n",
    "    \n",
    "    qsar_sim.input['SpMax_L'] = qsar_norm.loc[i].SpMax_L\n",
    "    qsar_sim.input['SpMax_A'] = qsar_norm.loc[i].SpMax_A\n",
    "    qsar_sim.input['SpPosA_Bp'] = qsar_norm.loc[i].SpPosA_Bp\n",
    "    qsar_sim.input['SM6_Bm'] = qsar_norm.loc[i].SM6_Bm\n",
    "    #qsar_sim.input['HyWi_Bm'] = qsar_norm.loc[i].HyWi_Bm\n",
    "    #qsar_sim.input['SM6_L'] = qsar_norm.loc[i].SM6_L\n",
    "\n",
    "    qsar_sim.compute()\n",
    "    \n",
    "    if(qsar_sim.output['eclass'] >= 0.5):\n",
    "        y_pred = y_pred.append({'eclass': 1}, ignore_index=True)\n",
    "    else:\n",
    "        y_pred = y_pred.append({'eclass': 0}, ignore_index=True)"
   ]
  },
  {
   "cell_type": "code",
   "execution_count": 25,
   "metadata": {
    "scrolled": true
   },
   "outputs": [
    {
     "name": "stdout",
     "output_type": "stream",
     "text": [
      "0.7374407582938388\n",
      "[[542 157]\n",
      " [120 236]]\n",
      "              precision    recall  f1-score   support\n",
      "\n",
      "           0       0.82      0.78      0.80       699\n",
      "           1       0.60      0.66      0.63       356\n",
      "\n",
      "    accuracy                           0.74      1055\n",
      "   macro avg       0.71      0.72      0.71      1055\n",
      "weighted avg       0.75      0.74      0.74      1055\n",
      "\n"
     ]
    }
   ],
   "source": [
    "y_test['eclass'] = y_test['eclass'].astype(int)\n",
    "y_pred['eclass'] = y_pred['eclass'].astype(int)\n",
    "print(accuracy_score(y_test, y_pred))\n",
    "print(confusion_matrix(y_test, y_pred))\n",
    "print(classification_report(y_test, y_pred))"
   ]
  },
  {
   "cell_type": "markdown",
   "metadata": {},
   "source": [
    "## Reference\n",
    "1. Gafa, C. (2020, May 13). Fuzzy Inference System implementation in Python - Towards Data Science. Medium. https://towardsdatascience.com/fuzzy-inference-system-implementation-in-python-8af88d1f0a6e\n",
    "2. Fuzzy Control Systems: The Tipping Problem — skfuzzy v0.2 docs. (n.d.). SciKit. Retrieved July 3, 2021, from https://pythonhosted.org/scikit-fuzzy/auto_examples/plot_tipping_problem_newapi.html\n",
    "3. Spolaor, S., Fuchs, C., Cazzaniga, P., Kaymak, U., Besozzi, D., & Nobile, M. S. (2020). Simpful: A User-Friendly Python Library for Fuzzy Logic. Atlantis Press. https://www.atlantis-press.com/journals/ijcis/125945415/view\n"
   ]
  }
 ],
 "metadata": {
  "kernelspec": {
   "display_name": "Python 3",
   "language": "python",
   "name": "python3"
  },
  "language_info": {
   "codemirror_mode": {
    "name": "ipython",
    "version": 3
   },
   "file_extension": ".py",
   "mimetype": "text/x-python",
   "name": "python",
   "nbconvert_exporter": "python",
   "pygments_lexer": "ipython3",
   "version": "3.8.8"
  }
 },
 "nbformat": 4,
 "nbformat_minor": 4
}
